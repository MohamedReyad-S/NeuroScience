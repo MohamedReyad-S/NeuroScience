{
  "cells": [
    {
      "cell_type": "code",
      "execution_count": 1,
      "metadata": {
        "colab": {
          "base_uri": "https://localhost:8080/",
          "height": 0
        },
        "id": "-6wiVSkxYvmT",
        "outputId": "4297ee02-ce3f-4e30-f1b9-079f36d1e7a6"
      },
      "outputs": [
        {
          "name": "stdout",
          "output_type": "stream",
          "text": [
            "\n",
            "🔹 التدرجات المحسوبة قبل تحديث الأوزان:\n",
            "∂E/∂w31: 0.081696\n",
            "∂E/∂w32: 0.081944\n",
            "∂E/∂w41: -0.023564\n",
            "∂E/∂w42: -0.023636\n",
            "\n",
            "🔹 القيم النهائية بعد تحديث الأوزان:\n",
            "o1: 0.7569, o2: 0.7677\n",
            "إجمالي الخطأ: 0.303658\n",
            "\n",
            "🔹 الأوزان الجديدة بين الطبقة المخفية والمخرجات:\n",
            "w31: 0.3592, w32: 0.4090, w41: 0.5118, w42: 0.5618\n"
          ]
        }
      ],
      "source": [
        "import numpy as np\n",
        "\n",
        "# تعريف دالة التنشيط سيجمويد ومشتقتها\n",
        "def sigmoid(x):\n",
        "    return 1 / (1 + np.exp(-x))\n",
        "\n",
        "def sigmoid_derivative(x):\n",
        "    return x * (1 - x)\n",
        "\n",
        "# المدخلات\n",
        "x1, x2 = 0.05, 0.10\n",
        "y1, y2 = 0.01, 0.99\n",
        "\n",
        "# الأوزان الأولية بين المدخلات والطبقة المخفية\n",
        "w11, w12 = 0.15, 0.20\n",
        "w21, w22 = 0.25, 0.30\n",
        "\n",
        "# الأوزان الأولية بين الطبقة المخفية والطبقة النهائية\n",
        "w31, w32 = 0.40, 0.45\n",
        "w41, w42 = 0.50, 0.55\n",
        "\n",
        "# الانحيازات\n",
        "b1, b2 = 0.35, 0.35\n",
        "b3, b4 = 0.60, 0.60\n",
        "\n",
        "# معدل التعلم\n",
        "learning_rate = 0.5\n",
        "\n",
        "# ======= الانتشار الأمامي (Forward Propagation) =======\n",
        "net_h1 = (x1 * w11) + (x2 * w21) + b1\n",
        "net_h2 = (x1 * w12) + (x2 * w22) + b2\n",
        "\n",
        "h1 = sigmoid(net_h1)\n",
        "h2 = sigmoid(net_h2)\n",
        "\n",
        "net_o1 = (h1 * w31) + (h2 * w41) + b3\n",
        "net_o2 = (h1 * w32) + (h2 * w42) + b4\n",
        "\n",
        "o1 = sigmoid(net_o1)\n",
        "o2 = sigmoid(net_o2)\n",
        "\n",
        "# ======= حساب الخطأ الكلي =======\n",
        "E1 = 0.5 * (y1 - o1) ** 2\n",
        "E2 = 0.5 * (y2 - o2) ** 2\n",
        "E_total = E1 + E2\n",
        "\n",
        "# ======= حساب التدرج العكسي (Backpropagation) =======\n",
        "# التدرج للأوزان بين الطبقة المخفية والإخراج\n",
        "dE_total_do1 = o1 - y1\n",
        "dE_total_do2 = o2 - y2\n",
        "\n",
        "do1_dneto1 = sigmoid_derivative(o1)\n",
        "do2_dneto2 = sigmoid_derivative(o2)\n",
        "\n",
        "dneto1_dw31 = h1\n",
        "dneto1_dw32 = h2\n",
        "dneto2_dw41 = h1\n",
        "dneto2_dw42 = h2\n",
        "\n",
        "dE_total_dw31 = dE_total_do1 * do1_dneto1 * dneto1_dw31\n",
        "dE_total_dw32 = dE_total_do1 * do1_dneto1 * dneto1_dw32\n",
        "dE_total_dw41 = dE_total_do2 * do2_dneto2 * dneto2_dw41\n",
        "dE_total_dw42 = dE_total_do2 * do2_dneto2 * dneto2_dw42\n",
        "\n",
        "# ======= طباعة التدرجات المحسوبة =======\n",
        "print(\"\\n🔹 التدرجات المحسوبة قبل تحديث الأوزان:\")\n",
        "print(f\"∂E/∂w31: {dE_total_dw31:.6f}\")\n",
        "print(f\"∂E/∂w32: {dE_total_dw32:.6f}\")\n",
        "print(f\"∂E/∂w41: {dE_total_dw41:.6f}\")\n",
        "print(f\"∂E/∂w42: {dE_total_dw42:.6f}\")\n",
        "\n",
        "# ======= تحديث الأوزان =======\n",
        "w31 -= learning_rate * dE_total_dw31\n",
        "w32 -= learning_rate * dE_total_dw32\n",
        "w41 -= learning_rate * dE_total_dw41\n",
        "w42 -= learning_rate * dE_total_dw42\n",
        "\n",
        "# ======= طباعة القيم النهائية =======\n",
        "print(\"\\n🔹 القيم النهائية بعد تحديث الأوزان:\")\n",
        "print(f\"o1: {o1:.4f}, o2: {o2:.4f}\")\n",
        "print(f\"إجمالي الخطأ: {E_total:.6f}\")\n",
        "\n",
        "print(\"\\n🔹 الأوزان الجديدة بين الطبقة المخفية والمخرجات:\")\n",
        "print(f\"w31: {w31:.4f}, w32: {w32:.4f}, w41: {w41:.4f}, w42: {w42:.4f}\")\n"
      ]
    }
  ],
  "metadata": {
    "colab": {
      "provenance": []
    },
    "kernelspec": {
      "display_name": "Python 3",
      "name": "python3"
    },
    "language_info": {
      "codemirror_mode": {
        "name": "ipython",
        "version": 3
      },
      "file_extension": ".py",
      "mimetype": "text/x-python",
      "name": "python",
      "nbconvert_exporter": "python",
      "pygments_lexer": "ipython3",
      "version": "3.13.1"
    }
  },
  "nbformat": 4,
  "nbformat_minor": 0
}
